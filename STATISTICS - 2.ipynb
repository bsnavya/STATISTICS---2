{
 "cells": [
  {
   "cell_type": "markdown",
   "metadata": {},
   "source": [
    "2.1. A test is conducted which is consisting of 20 MCQs (multiple choices questions) with every\n",
    "MCQ having its four options out of which only one is correct. Determine the probability that a\n",
    "person undertaking that test has answered exactly 5 questions wrong."
   ]
  },
  {
   "cell_type": "code",
   "execution_count": 5,
   "metadata": {},
   "outputs": [
    {
     "name": "stdout",
     "output_type": "stream",
     "text": [
      "0.0000034\n"
     ]
    }
   ],
   "source": [
    "from scipy.stats import binom\n",
    "n = 20\n",
    "p = 0.25\n",
    "k = 15\n",
    "loc = 0\n",
    "s = binom.pmf(k, n, p, loc) \n",
    "print('%.7f' % s)"
   ]
  },
  {
   "cell_type": "markdown",
   "metadata": {},
   "source": [
    "2.2. A die marked A to E is rolled 50 times. Find the probability of getting a “D” exactly 5 times."
   ]
  },
  {
   "cell_type": "code",
   "execution_count": 6,
   "metadata": {},
   "outputs": [
    {
     "name": "stdout",
     "output_type": "stream",
     "text": [
      "probability of getting a D is  0.2\n",
      "probability of not getting D is 0.8\n"
     ]
    }
   ],
   "source": [
    "from scipy.stats import binom\n",
    "n=50 \n",
    "k=5\n",
    "#The probability of getting A in any given throw is 1/5\")\n",
    "#The probability of getting B in any given throw is 1/5\")\n",
    "#The probability of getting C in any given throw is 1/5\")\n",
    "#The probability of getting D in any given throw is 1/5\")\n",
    "#The probability of getting E in any given throw is 1/5\")\n",
    "p=1/5\n",
    "print(\"probability of getting a D is \" ,p)\n",
    "print(\"probability of not getting D is\" , 1-p)"
   ]
  },
  {
   "cell_type": "markdown",
   "metadata": {},
   "source": [
    "2.3. Two balls are drawn at random in succession without replacement from an urn containing 4\n",
    "red balls and 6 black balls.\n",
    "Find the probabilities of all the possible outcomes."
   ]
  },
  {
   "cell_type": "code",
   "execution_count": 7,
   "metadata": {},
   "outputs": [
    {
     "name": "stdout",
     "output_type": "stream",
     "text": [
      "0.4\n",
      "0.6\n"
     ]
    }
   ],
   "source": [
    "def event_probability(event_outcomes, sample_space):\n",
    "    probability = (event_outcomes / sample_space) \n",
    "    return round(probability, 2)\n",
    "Total_outcomes = 10\n",
    "# The probability of getting red ball\n",
    "red_ball=4\n",
    "red_ball_probability = event_probability(red_ball, Total_outcomes)\n",
    "\n",
    "# The probability of getting black ball\n",
    "black_ball = 6\n",
    "black_ball_probability = event_probability(black_ball, Total_outcomes)\n",
    "\n",
    "print(red_ball_probability)\n",
    "print(black_ball_probability)"
   ]
  }
 ],
 "metadata": {
  "kernelspec": {
   "display_name": "Python 3",
   "language": "python",
   "name": "python3"
  },
  "language_info": {
   "codemirror_mode": {
    "name": "ipython",
    "version": 3
   },
   "file_extension": ".py",
   "mimetype": "text/x-python",
   "name": "python",
   "nbconvert_exporter": "python",
   "pygments_lexer": "ipython3",
   "version": "3.6.4"
  }
 },
 "nbformat": 4,
 "nbformat_minor": 2
}
